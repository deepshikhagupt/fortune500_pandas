{
 "cells": [
  {
   "cell_type": "markdown",
   "metadata": {},
   "source": [
    "### Information about dataset\n",
    "We'll work with a dataset from Fortune magazine's 2017 Global 500 list, which ranks the top 500 corporations worldwide by revenue. \n",
    "\n",
    "\n",
    "The dataset was originally compiled [here](https://data.world/chasewillden/fortune-500-companies-2017)\n",
    "\n",
    "\n",
    "Data dictionary ::::\n",
    "\n",
    "\n",
    "| Column     | Description |\n",
    "| :---------- | :---------- |\n",
    "|company | The company's name|\n",
    "| rank |Global 500 rank for the company|\n",
    "| revenues| Company's total revenue for the fiscal year, in millions of dollars (USD)|\n",
    "| revenue_change | Percentage change in revenue between the current and prior fiscal year|\n",
    "| profits | Net income for the fiscal year, in millions of dollars (USD)|\n",
    "| ceo | Company's Chief Executive Officer|\n",
    "| industry |The company's industry of operation|\n",
    "| sector | Sector in which the company operates|\n",
    "| previous_rank | Global 500 rank for the company for the prior year|\n",
    "| country | Country of the company's headquarters|\n",
    "\n",
    "\n"
   ]
  },
  {
   "cell_type": "code",
   "execution_count": 1,
   "metadata": {},
   "outputs": [],
   "source": [
    "import pandas as pd\n",
    "import numpy as np\n",
    "g500 = pd.read_csv('f500.csv')\n",
    "\n"
   ]
  },
  {
   "cell_type": "code",
   "execution_count": 2,
   "metadata": {},
   "outputs": [
    {
     "name": "stdout",
     "output_type": "stream",
     "text": [
      "(500, 17)\n"
     ]
    }
   ],
   "source": [
    "print(g500.shape)"
   ]
  },
  {
   "cell_type": "code",
   "execution_count": 3,
   "metadata": {},
   "outputs": [
    {
     "data": {
      "text/html": [
       "<div>\n",
       "<style scoped>\n",
       "    .dataframe tbody tr th:only-of-type {\n",
       "        vertical-align: middle;\n",
       "    }\n",
       "\n",
       "    .dataframe tbody tr th {\n",
       "        vertical-align: top;\n",
       "    }\n",
       "\n",
       "    .dataframe thead th {\n",
       "        text-align: right;\n",
       "    }\n",
       "</style>\n",
       "<table border=\"1\" class=\"dataframe\">\n",
       "  <thead>\n",
       "    <tr style=\"text-align: right;\">\n",
       "      <th></th>\n",
       "      <th>company</th>\n",
       "      <th>rank</th>\n",
       "      <th>revenues</th>\n",
       "      <th>revenue_change</th>\n",
       "      <th>profits</th>\n",
       "      <th>assets</th>\n",
       "      <th>profit_change</th>\n",
       "      <th>ceo</th>\n",
       "      <th>industry</th>\n",
       "      <th>sector</th>\n",
       "      <th>previous_rank</th>\n",
       "      <th>country</th>\n",
       "      <th>hq_location</th>\n",
       "      <th>website</th>\n",
       "      <th>years_on_global_500_list</th>\n",
       "      <th>employees</th>\n",
       "      <th>total_stockholder_equity</th>\n",
       "    </tr>\n",
       "  </thead>\n",
       "  <tbody>\n",
       "    <tr>\n",
       "      <th>0</th>\n",
       "      <td>Walmart</td>\n",
       "      <td>1</td>\n",
       "      <td>485873</td>\n",
       "      <td>0.8</td>\n",
       "      <td>13643.0</td>\n",
       "      <td>198825</td>\n",
       "      <td>-7.2</td>\n",
       "      <td>C. Douglas McMillon</td>\n",
       "      <td>General Merchandisers</td>\n",
       "      <td>Retailing</td>\n",
       "      <td>1</td>\n",
       "      <td>USA</td>\n",
       "      <td>Bentonville, AR</td>\n",
       "      <td>http://www.walmart.com</td>\n",
       "      <td>23</td>\n",
       "      <td>2300000</td>\n",
       "      <td>77798</td>\n",
       "    </tr>\n",
       "    <tr>\n",
       "      <th>1</th>\n",
       "      <td>State Grid</td>\n",
       "      <td>2</td>\n",
       "      <td>315199</td>\n",
       "      <td>-4.4</td>\n",
       "      <td>9571.3</td>\n",
       "      <td>489838</td>\n",
       "      <td>-6.2</td>\n",
       "      <td>Kou Wei</td>\n",
       "      <td>Utilities</td>\n",
       "      <td>Energy</td>\n",
       "      <td>2</td>\n",
       "      <td>China</td>\n",
       "      <td>Beijing, China</td>\n",
       "      <td>http://www.sgcc.com.cn</td>\n",
       "      <td>17</td>\n",
       "      <td>926067</td>\n",
       "      <td>209456</td>\n",
       "    </tr>\n",
       "    <tr>\n",
       "      <th>2</th>\n",
       "      <td>Sinopec Group</td>\n",
       "      <td>3</td>\n",
       "      <td>267518</td>\n",
       "      <td>-9.1</td>\n",
       "      <td>1257.9</td>\n",
       "      <td>310726</td>\n",
       "      <td>-65.0</td>\n",
       "      <td>Wang Yupu</td>\n",
       "      <td>Petroleum Refining</td>\n",
       "      <td>Energy</td>\n",
       "      <td>4</td>\n",
       "      <td>China</td>\n",
       "      <td>Beijing, China</td>\n",
       "      <td>http://www.sinopec.com</td>\n",
       "      <td>19</td>\n",
       "      <td>713288</td>\n",
       "      <td>106523</td>\n",
       "    </tr>\n",
       "    <tr>\n",
       "      <th>3</th>\n",
       "      <td>China National Petroleum</td>\n",
       "      <td>4</td>\n",
       "      <td>262573</td>\n",
       "      <td>-12.3</td>\n",
       "      <td>1867.5</td>\n",
       "      <td>585619</td>\n",
       "      <td>-73.7</td>\n",
       "      <td>Zhang Jianhua</td>\n",
       "      <td>Petroleum Refining</td>\n",
       "      <td>Energy</td>\n",
       "      <td>3</td>\n",
       "      <td>China</td>\n",
       "      <td>Beijing, China</td>\n",
       "      <td>http://www.cnpc.com.cn</td>\n",
       "      <td>17</td>\n",
       "      <td>1512048</td>\n",
       "      <td>301893</td>\n",
       "    </tr>\n",
       "    <tr>\n",
       "      <th>4</th>\n",
       "      <td>Toyota Motor</td>\n",
       "      <td>5</td>\n",
       "      <td>254694</td>\n",
       "      <td>7.7</td>\n",
       "      <td>16899.3</td>\n",
       "      <td>437575</td>\n",
       "      <td>-12.3</td>\n",
       "      <td>Akio Toyoda</td>\n",
       "      <td>Motor Vehicles and Parts</td>\n",
       "      <td>Motor Vehicles &amp; Parts</td>\n",
       "      <td>8</td>\n",
       "      <td>Japan</td>\n",
       "      <td>Toyota, Japan</td>\n",
       "      <td>http://www.toyota-global.com</td>\n",
       "      <td>23</td>\n",
       "      <td>364445</td>\n",
       "      <td>157210</td>\n",
       "    </tr>\n",
       "    <tr>\n",
       "      <th>...</th>\n",
       "      <td>...</td>\n",
       "      <td>...</td>\n",
       "      <td>...</td>\n",
       "      <td>...</td>\n",
       "      <td>...</td>\n",
       "      <td>...</td>\n",
       "      <td>...</td>\n",
       "      <td>...</td>\n",
       "      <td>...</td>\n",
       "      <td>...</td>\n",
       "      <td>...</td>\n",
       "      <td>...</td>\n",
       "      <td>...</td>\n",
       "      <td>...</td>\n",
       "      <td>...</td>\n",
       "      <td>...</td>\n",
       "      <td>...</td>\n",
       "    </tr>\n",
       "    <tr>\n",
       "      <th>495</th>\n",
       "      <td>Teva Pharmaceutical Industries</td>\n",
       "      <td>496</td>\n",
       "      <td>21903</td>\n",
       "      <td>11.5</td>\n",
       "      <td>329.0</td>\n",
       "      <td>92890</td>\n",
       "      <td>-79.3</td>\n",
       "      <td>Yitzhak Peterburg</td>\n",
       "      <td>Pharmaceuticals</td>\n",
       "      <td>Health Care</td>\n",
       "      <td>0</td>\n",
       "      <td>Israel</td>\n",
       "      <td>Petach Tikva, Israel</td>\n",
       "      <td>http://www.tevapharm.com</td>\n",
       "      <td>1</td>\n",
       "      <td>56960</td>\n",
       "      <td>33337</td>\n",
       "    </tr>\n",
       "    <tr>\n",
       "      <th>496</th>\n",
       "      <td>New China Life Insurance</td>\n",
       "      <td>497</td>\n",
       "      <td>21796</td>\n",
       "      <td>-13.3</td>\n",
       "      <td>743.9</td>\n",
       "      <td>100609</td>\n",
       "      <td>-45.6</td>\n",
       "      <td>Wan Feng</td>\n",
       "      <td>Insurance: Life, Health (stock)</td>\n",
       "      <td>Financials</td>\n",
       "      <td>427</td>\n",
       "      <td>China</td>\n",
       "      <td>Beijing, China</td>\n",
       "      <td>http://www.newchinalife.com</td>\n",
       "      <td>2</td>\n",
       "      <td>54378</td>\n",
       "      <td>8507</td>\n",
       "    </tr>\n",
       "    <tr>\n",
       "      <th>497</th>\n",
       "      <td>Wm. Morrison Supermarkets</td>\n",
       "      <td>498</td>\n",
       "      <td>21741</td>\n",
       "      <td>-11.3</td>\n",
       "      <td>406.4</td>\n",
       "      <td>11630</td>\n",
       "      <td>20.4</td>\n",
       "      <td>David T. Potts</td>\n",
       "      <td>Food and Drug Stores</td>\n",
       "      <td>Food &amp; Drug Stores</td>\n",
       "      <td>437</td>\n",
       "      <td>Britain</td>\n",
       "      <td>Bradford, Britain</td>\n",
       "      <td>http://www.morrisons.com</td>\n",
       "      <td>13</td>\n",
       "      <td>77210</td>\n",
       "      <td>5111</td>\n",
       "    </tr>\n",
       "    <tr>\n",
       "      <th>498</th>\n",
       "      <td>TUI</td>\n",
       "      <td>499</td>\n",
       "      <td>21655</td>\n",
       "      <td>-5.5</td>\n",
       "      <td>1151.7</td>\n",
       "      <td>16247</td>\n",
       "      <td>195.5</td>\n",
       "      <td>Friedrich Joussen</td>\n",
       "      <td>Travel Services</td>\n",
       "      <td>Business Services</td>\n",
       "      <td>467</td>\n",
       "      <td>Germany</td>\n",
       "      <td>Hanover, Germany</td>\n",
       "      <td>http://www.tuigroup.com</td>\n",
       "      <td>23</td>\n",
       "      <td>66779</td>\n",
       "      <td>3006</td>\n",
       "    </tr>\n",
       "    <tr>\n",
       "      <th>499</th>\n",
       "      <td>AutoNation</td>\n",
       "      <td>500</td>\n",
       "      <td>21609</td>\n",
       "      <td>3.6</td>\n",
       "      <td>430.5</td>\n",
       "      <td>10060</td>\n",
       "      <td>-2.7</td>\n",
       "      <td>Michael J. Jackson</td>\n",
       "      <td>Specialty Retailers</td>\n",
       "      <td>Retailing</td>\n",
       "      <td>0</td>\n",
       "      <td>USA</td>\n",
       "      <td>Fort Lauderdale, FL</td>\n",
       "      <td>http://www.autonation.com</td>\n",
       "      <td>12</td>\n",
       "      <td>26000</td>\n",
       "      <td>2310</td>\n",
       "    </tr>\n",
       "  </tbody>\n",
       "</table>\n",
       "<p>500 rows × 17 columns</p>\n",
       "</div>"
      ],
      "text/plain": [
       "                            company  rank  revenues  revenue_change  profits  \\\n",
       "0                           Walmart     1    485873             0.8  13643.0   \n",
       "1                        State Grid     2    315199            -4.4   9571.3   \n",
       "2                     Sinopec Group     3    267518            -9.1   1257.9   \n",
       "3          China National Petroleum     4    262573           -12.3   1867.5   \n",
       "4                      Toyota Motor     5    254694             7.7  16899.3   \n",
       "..                              ...   ...       ...             ...      ...   \n",
       "495  Teva Pharmaceutical Industries   496     21903            11.5    329.0   \n",
       "496        New China Life Insurance   497     21796           -13.3    743.9   \n",
       "497       Wm. Morrison Supermarkets   498     21741           -11.3    406.4   \n",
       "498                             TUI   499     21655            -5.5   1151.7   \n",
       "499                      AutoNation   500     21609             3.6    430.5   \n",
       "\n",
       "     assets  profit_change                  ceo  \\\n",
       "0    198825           -7.2  C. Douglas McMillon   \n",
       "1    489838           -6.2              Kou Wei   \n",
       "2    310726          -65.0            Wang Yupu   \n",
       "3    585619          -73.7        Zhang Jianhua   \n",
       "4    437575          -12.3          Akio Toyoda   \n",
       "..      ...            ...                  ...   \n",
       "495   92890          -79.3    Yitzhak Peterburg   \n",
       "496  100609          -45.6             Wan Feng   \n",
       "497   11630           20.4       David T. Potts   \n",
       "498   16247          195.5    Friedrich Joussen   \n",
       "499   10060           -2.7   Michael J. Jackson   \n",
       "\n",
       "                            industry                  sector  previous_rank  \\\n",
       "0              General Merchandisers               Retailing              1   \n",
       "1                          Utilities                  Energy              2   \n",
       "2                 Petroleum Refining                  Energy              4   \n",
       "3                 Petroleum Refining                  Energy              3   \n",
       "4           Motor Vehicles and Parts  Motor Vehicles & Parts              8   \n",
       "..                               ...                     ...            ...   \n",
       "495                  Pharmaceuticals             Health Care              0   \n",
       "496  Insurance: Life, Health (stock)              Financials            427   \n",
       "497             Food and Drug Stores      Food & Drug Stores            437   \n",
       "498                  Travel Services       Business Services            467   \n",
       "499              Specialty Retailers               Retailing              0   \n",
       "\n",
       "     country           hq_location                       website  \\\n",
       "0        USA       Bentonville, AR        http://www.walmart.com   \n",
       "1      China        Beijing, China        http://www.sgcc.com.cn   \n",
       "2      China        Beijing, China        http://www.sinopec.com   \n",
       "3      China        Beijing, China        http://www.cnpc.com.cn   \n",
       "4      Japan         Toyota, Japan  http://www.toyota-global.com   \n",
       "..       ...                   ...                           ...   \n",
       "495   Israel  Petach Tikva, Israel      http://www.tevapharm.com   \n",
       "496    China        Beijing, China   http://www.newchinalife.com   \n",
       "497  Britain     Bradford, Britain      http://www.morrisons.com   \n",
       "498  Germany      Hanover, Germany       http://www.tuigroup.com   \n",
       "499      USA   Fort Lauderdale, FL     http://www.autonation.com   \n",
       "\n",
       "     years_on_global_500_list  employees  total_stockholder_equity  \n",
       "0                          23    2300000                     77798  \n",
       "1                          17     926067                    209456  \n",
       "2                          19     713288                    106523  \n",
       "3                          17    1512048                    301893  \n",
       "4                          23     364445                    157210  \n",
       "..                        ...        ...                       ...  \n",
       "495                         1      56960                     33337  \n",
       "496                         2      54378                      8507  \n",
       "497                        13      77210                      5111  \n",
       "498                        23      66779                      3006  \n",
       "499                        12      26000                      2310  \n",
       "\n",
       "[500 rows x 17 columns]"
      ]
     },
     "execution_count": 3,
     "metadata": {},
     "output_type": "execute_result"
    }
   ],
   "source": [
    "g500"
   ]
  },
  {
   "cell_type": "code",
   "execution_count": 4,
   "metadata": {},
   "outputs": [
    {
     "name": "stdout",
     "output_type": "stream",
     "text": [
      "company                      object\n",
      "rank                          int64\n",
      "revenues                      int64\n",
      "revenue_change              float64\n",
      "profits                     float64\n",
      "assets                        int64\n",
      "profit_change               float64\n",
      "ceo                          object\n",
      "industry                     object\n",
      "sector                       object\n",
      "previous_rank                 int64\n",
      "country                      object\n",
      "hq_location                  object\n",
      "website                      object\n",
      "years_on_global_500_list      int64\n",
      "employees                     int64\n",
      "total_stockholder_equity      int64\n",
      "dtype: object\n"
     ]
    }
   ],
   "source": [
    "print(g500.dtypes)\n",
    "# object, which is used for columns that have data that doesn't fit into any other dtypes. This is normally used for columns containing string values."
   ]
  },
  {
   "cell_type": "code",
   "execution_count": 5,
   "metadata": {},
   "outputs": [
    {
     "name": "stdout",
     "output_type": "stream",
     "text": [
      "<class 'pandas.core.frame.DataFrame'>\n",
      "RangeIndex: 500 entries, 0 to 499\n",
      "Data columns (total 17 columns):\n",
      " #   Column                    Non-Null Count  Dtype  \n",
      "---  ------                    --------------  -----  \n",
      " 0   company                   500 non-null    object \n",
      " 1   rank                      500 non-null    int64  \n",
      " 2   revenues                  500 non-null    int64  \n",
      " 3   revenue_change            498 non-null    float64\n",
      " 4   profits                   499 non-null    float64\n",
      " 5   assets                    500 non-null    int64  \n",
      " 6   profit_change             436 non-null    float64\n",
      " 7   ceo                       500 non-null    object \n",
      " 8   industry                  500 non-null    object \n",
      " 9   sector                    500 non-null    object \n",
      " 10  previous_rank             500 non-null    int64  \n",
      " 11  country                   500 non-null    object \n",
      " 12  hq_location               500 non-null    object \n",
      " 13  website                   500 non-null    object \n",
      " 14  years_on_global_500_list  500 non-null    int64  \n",
      " 15  employees                 500 non-null    int64  \n",
      " 16  total_stockholder_equity  500 non-null    int64  \n",
      "dtypes: float64(3), int64(7), object(7)\n",
      "memory usage: 66.5+ KB\n"
     ]
    }
   ],
   "source": [
    "g500.info()"
   ]
  },
  {
   "cell_type": "markdown",
   "metadata": {},
   "source": [
    "Since our axis in pandas have labels, we can select data using those labels — unlike in NumPy, where we needed to know the exact index location"
   ]
  },
  {
   "cell_type": "markdown",
   "metadata": {},
   "source": [
    "### Obj: Calculate the changes in rank for each company"
   ]
  },
  {
   "cell_type": "code",
   "execution_count": 6,
   "metadata": {},
   "outputs": [
    {
     "name": "stdout",
     "output_type": "stream",
     "text": [
      "0        0\n",
      "1        0\n",
      "2        1\n",
      "3       -1\n",
      "4        3\n",
      "      ... \n",
      "495   -496\n",
      "496    -70\n",
      "497    -61\n",
      "498    -32\n",
      "499   -500\n",
      "Length: 500, dtype: int64\n"
     ]
    }
   ],
   "source": [
    "rank_change = g500[\"previous_rank\"] - g500[\"rank\"] \n",
    "print(rank_change)"
   ]
  },
  {
   "cell_type": "code",
   "execution_count": 7,
   "metadata": {},
   "outputs": [
    {
     "name": "stdout",
     "output_type": "stream",
     "text": [
      "Max rank change : 226\n",
      "Min rank_change : -500\n"
     ]
    }
   ],
   "source": [
    "print(\"Max rank change :\",rank_change.max())\n",
    "print(\"Min rank_change :\", rank_change.min())"
   ]
  },
  {
   "cell_type": "markdown",
   "metadata": {},
   "source": [
    "\n",
    "__This indicates that there is incorrect data in either the rank column or previous_rank column.__"
   ]
  },
  {
   "cell_type": "code",
   "execution_count": 8,
   "metadata": {},
   "outputs": [
    {
     "name": "stdout",
     "output_type": "stream",
     "text": [
      "count    500.000000\n",
      "mean     222.134000\n",
      "std      146.941961\n",
      "min        0.000000\n",
      "25%       92.750000\n",
      "50%      219.500000\n",
      "75%      347.250000\n",
      "max      500.000000\n",
      "Name: previous_rank, dtype: float64\n"
     ]
    }
   ],
   "source": [
    "print(g500[\"previous_rank\"].describe())"
   ]
  },
  {
   "cell_type": "markdown",
   "metadata": {},
   "source": [
    "__The minimum previous rank is 0 which should not be possible since ranking is 1 to 500__\n",
    "\n",
    "So find out all the 0's "
   ]
  },
  {
   "cell_type": "code",
   "execution_count": 9,
   "metadata": {},
   "outputs": [
    {
     "name": "stdout",
     "output_type": "stream",
     "text": [
      "33\n"
     ]
    }
   ],
   "source": [
    "print(g500[\"previous_rank\"].value_counts()[0])"
   ]
  },
  {
   "cell_type": "code",
   "execution_count": 11,
   "metadata": {},
   "outputs": [
    {
     "name": "stdout",
     "output_type": "stream",
     "text": [
      "             rank       revenues  revenue_change       profits        assets  \\\n",
      "count  500.000000     500.000000      498.000000    499.000000  5.000000e+02   \n",
      "mean   250.500000   55416.358000        4.538353   3055.203206  2.436323e+05   \n",
      "std    144.481833   45725.478963       28.549067   5171.981071  4.851937e+05   \n",
      "min      1.000000   21609.000000      -67.300000 -13038.000000  3.717000e+03   \n",
      "25%    125.750000   29003.000000       -5.900000    556.950000  3.658850e+04   \n",
      "50%    250.500000   40236.000000        0.550000   1761.600000  7.326150e+04   \n",
      "75%    375.250000   63926.750000        6.975000   3954.000000  1.805640e+05   \n",
      "max    500.000000  485873.000000      442.300000  45687.000000  3.473238e+06   \n",
      "\n",
      "       profit_change  previous_rank  years_on_global_500_list     employees  \\\n",
      "count     436.000000     500.000000                500.000000  5.000000e+02   \n",
      "mean       24.152752     222.134000                 15.036000  1.339983e+05   \n",
      "std       437.509566     146.941961                  7.932752  1.700878e+05   \n",
      "min      -793.700000       0.000000                  1.000000  3.280000e+02   \n",
      "25%       -22.775000      92.750000                  7.000000  4.293250e+04   \n",
      "50%        -0.350000     219.500000                 17.000000  9.291050e+04   \n",
      "75%        17.700000     347.250000                 23.000000  1.689172e+05   \n",
      "max      8909.500000     500.000000                 23.000000  2.300000e+06   \n",
      "\n",
      "       total_stockholder_equity  \n",
      "count                500.000000  \n",
      "mean               30628.076000  \n",
      "std                43642.576833  \n",
      "min               -59909.000000  \n",
      "25%                 7553.750000  \n",
      "50%                15809.500000  \n",
      "75%                37828.500000  \n",
      "max               301893.000000  \n"
     ]
    }
   ],
   "source": [
    "# series , data frame method to return stats for columns - default for only numeric\n",
    "print(g500.describe())"
   ]
  },
  {
   "cell_type": "code",
   "execution_count": 12,
   "metadata": {},
   "outputs": [
    {
     "name": "stdout",
     "output_type": "stream",
     "text": [
      "            company                 ceo                       industry  \\\n",
      "count           500                 500                            500   \n",
      "unique          500                 500                             58   \n",
      "top     Wells Fargo  Phebe N. Novakovic  Banks: Commercial and Savings   \n",
      "freq              1                   1                             51   \n",
      "\n",
      "            sector country     hq_location                 website  \n",
      "count          500     500             500                     500  \n",
      "unique          21      34             235                     500  \n",
      "top     Financials     USA  Beijing, China  http://www.chevron.com  \n",
      "freq           118     132              56                       1  \n"
     ]
    }
   ],
   "source": [
    "#include 'O' for non-numeric\n",
    "print(g500.describe(include=['O']))"
   ]
  },
  {
   "cell_type": "markdown",
   "metadata": {},
   "source": [
    "__Companies weren't included previously - values should be null__\n",
    "\n",
    "This is the most common way to write pandas code to __perform assignment using boolean arrays:__\n",
    "\n",
    "f500.loc [ f500[\"sector\"] == \"Motor Vehicles & Parts\",\"sector\"] = \"Motor Vehicles and Parts\"\n",
    "\n"
   ]
  },
  {
   "cell_type": "code",
   "execution_count": 13,
   "metadata": {},
   "outputs": [
    {
     "name": "stdout",
     "output_type": "stream",
     "text": [
      "0      33\n",
      "159     1\n",
      "147     1\n",
      "148     1\n",
      "149     1\n",
      "Name: previous_rank, dtype: int64\n"
     ]
    }
   ],
   "source": [
    "print(g500[\"previous_rank\"].value_counts(dropna=False).head())"
   ]
  },
  {
   "cell_type": "code",
   "execution_count": 14,
   "metadata": {},
   "outputs": [
    {
     "name": "stdout",
     "output_type": "stream",
     "text": [
      "                                   company  rank  previous_rank\n",
      "48                   Legal & General Group    49            NaN\n",
      "90                                  Uniper    91            NaN\n",
      "123                      Dell Technologies   124            NaN\n",
      "138                 Anbang Insurance Group   139            NaN\n",
      "140                        Albertsons Cos.   141            NaN\n",
      "180             Hewlett Packard Enterprise   181            NaN\n",
      "267                           Hengli Group   268            NaN\n",
      "271         Johnson Controls International   272            NaN\n",
      "341                                  Chubb   342            NaN\n",
      "375                 Charter Communications   376            NaN\n",
      "376                              Medtronic   377            NaN\n",
      "392                               Facebook   393            NaN\n",
      "409                            Kraft Heinz   410            NaN\n",
      "414                                  Nokia   415            NaN\n",
      "431                          Standard Life   432            NaN\n",
      "440            Brookfield Asset Management   441            NaN\n",
      "441        Mercantil Servicios Financieros   442            NaN\n",
      "446                            Samsung C&T   447            NaN\n",
      "456                        Heraeus Holding   457            NaN\n",
      "458                Yango Financial Holding   459            NaN\n",
      "461                  Alibaba Group Holding   462            NaN\n",
      "463                            Progressive   464            NaN\n",
      "466                Country Garden Holdings   467            NaN\n",
      "472                                 Altice   473            NaN\n",
      "477                       Tencent Holdings   478            NaN\n",
      "482                                  Aflac   483            NaN\n",
      "484                  Suning Commerce Group   485            NaN\n",
      "487                             Xiamen C&D   488            NaN\n",
      "491                         Dollar General   492            NaN\n",
      "493               Xiamen ITG Holding Group   494            NaN\n",
      "494  Xinjiang Guanghui Industry Investment   495            NaN\n",
      "495         Teva Pharmaceutical Industries   496            NaN\n",
      "499                             AutoNation   500            NaN\n"
     ]
    }
   ],
   "source": [
    "g500.loc[g500[\"previous_rank\"] == 0, \"previous_rank\"] = np.nan\n",
    "null_ranks = g500[\"previous_rank\"].isnull()\n",
    "print(g500[null_ranks][[\"company\",\"rank\",\"previous_rank\"]])\n"
   ]
  },
  {
   "cell_type": "markdown",
   "metadata": {},
   "source": [
    "#### The pandas library will align on index at every opportunity, no matter if our index labels are strings or integers - this makes working with data from different sources or working with data when we have removed, added, or reordered rows much easier than it would be otherwise."
   ]
  },
  {
   "cell_type": "code",
   "execution_count": 15,
   "metadata": {},
   "outputs": [
    {
     "name": "stdout",
     "output_type": "stream",
     "text": [
      "                                   company  previous_rank  rank_change\n",
      "48                   Legal & General Group            NaN          NaN\n",
      "90                                  Uniper            NaN          NaN\n",
      "123                      Dell Technologies            NaN          NaN\n",
      "138                 Anbang Insurance Group            NaN          NaN\n",
      "140                        Albertsons Cos.            NaN          NaN\n",
      "180             Hewlett Packard Enterprise            NaN          NaN\n",
      "267                           Hengli Group            NaN          NaN\n",
      "271         Johnson Controls International            NaN          NaN\n",
      "341                                  Chubb            NaN          NaN\n",
      "375                 Charter Communications            NaN          NaN\n",
      "376                              Medtronic            NaN          NaN\n",
      "392                               Facebook            NaN          NaN\n",
      "409                            Kraft Heinz            NaN          NaN\n",
      "414                                  Nokia            NaN          NaN\n",
      "431                          Standard Life            NaN          NaN\n",
      "440            Brookfield Asset Management            NaN          NaN\n",
      "441        Mercantil Servicios Financieros            NaN          NaN\n",
      "446                            Samsung C&T            NaN          NaN\n",
      "456                        Heraeus Holding            NaN          NaN\n",
      "458                Yango Financial Holding            NaN          NaN\n",
      "461                  Alibaba Group Holding            NaN          NaN\n",
      "463                            Progressive            NaN          NaN\n",
      "466                Country Garden Holdings            NaN          NaN\n",
      "472                                 Altice            NaN          NaN\n",
      "477                       Tencent Holdings            NaN          NaN\n",
      "482                                  Aflac            NaN          NaN\n",
      "484                  Suning Commerce Group            NaN          NaN\n",
      "487                             Xiamen C&D            NaN          NaN\n",
      "491                         Dollar General            NaN          NaN\n",
      "493               Xiamen ITG Holding Group            NaN          NaN\n",
      "494  Xinjiang Guanghui Industry Investment            NaN          NaN\n",
      "495         Teva Pharmaceutical Industries            NaN          NaN\n",
      "499                             AutoNation            NaN          NaN\n"
     ]
    }
   ],
   "source": [
    "previously_ranked = g500[g500[\"previous_rank\"].notnull()]\n",
    "rank_change = previously_ranked[\"previous_rank\"] - previously_ranked[\"rank\"]\n",
    "g500[\"rank_change\"] = rank_change\n",
    "print(g500.loc[g500[\"previous_rank\"].isnull(),[\"company\",\"previous_rank\",\"rank_change\"]])"
   ]
  },
  {
   "cell_type": "markdown",
   "metadata": {},
   "source": [
    "### Select all companies with revenues over 100 billion and negative profits "
   ]
  },
  {
   "cell_type": "code",
   "execution_count": 16,
   "metadata": {},
   "outputs": [
    {
     "name": "stdout",
     "output_type": "stream",
     "text": [
      "                company  rank  revenues  revenue_change  profits   assets  \\\n",
      "32  Japan Post Holdings    33    122990             3.6   -267.4  2631385   \n",
      "44              Chevron    45    107567           -18.0   -497.0   260078   \n",
      "\n",
      "    profit_change               ceo                         industry  \\\n",
      "32         -107.5  Masatsugu Nagato  Insurance: Life, Health (stock)   \n",
      "44         -110.8    John S. Watson               Petroleum Refining   \n",
      "\n",
      "        sector  previous_rank country    hq_location                  website  \\\n",
      "32  Financials           37.0   Japan   Tokyo, Japan  http://www.japanpost.jp   \n",
      "44      Energy           31.0     USA  San Ramon, CA   http://www.chevron.com   \n",
      "\n",
      "    years_on_global_500_list  employees  total_stockholder_equity  rank_change  \n",
      "32                        21     248384                     91532          4.0  \n",
      "44                        23      55200                    145556        -14.0  \n"
     ]
    }
   ],
   "source": [
    "large_revenue = g500[\"revenues\"] > 100000\n",
    "negative_profits = g500[\"profits\"] < 0\n",
    "combined = large_revenue & negative_profits\n",
    "big_rev_neg_profit = g500[combined]\n",
    "print(big_rev_neg_profit)"
   ]
  },
  {
   "cell_type": "markdown",
   "metadata": {},
   "source": [
    "### Find the company that employs the most people in China"
   ]
  },
  {
   "cell_type": "code",
   "execution_count": 17,
   "metadata": {},
   "outputs": [
    {
     "data": {
      "text/html": [
       "<div>\n",
       "<style scoped>\n",
       "    .dataframe tbody tr th:only-of-type {\n",
       "        vertical-align: middle;\n",
       "    }\n",
       "\n",
       "    .dataframe tbody tr th {\n",
       "        vertical-align: top;\n",
       "    }\n",
       "\n",
       "    .dataframe thead th {\n",
       "        text-align: right;\n",
       "    }\n",
       "</style>\n",
       "<table border=\"1\" class=\"dataframe\">\n",
       "  <thead>\n",
       "    <tr style=\"text-align: right;\">\n",
       "      <th></th>\n",
       "      <th>company</th>\n",
       "      <th>employees</th>\n",
       "    </tr>\n",
       "  </thead>\n",
       "  <tbody>\n",
       "    <tr>\n",
       "      <th>3</th>\n",
       "      <td>China National Petroleum</td>\n",
       "      <td>1512048</td>\n",
       "    </tr>\n",
       "    <tr>\n",
       "      <th>118</th>\n",
       "      <td>China Post Group</td>\n",
       "      <td>941211</td>\n",
       "    </tr>\n",
       "    <tr>\n",
       "      <th>1</th>\n",
       "      <td>State Grid</td>\n",
       "      <td>926067</td>\n",
       "    </tr>\n",
       "    <tr>\n",
       "      <th>2</th>\n",
       "      <td>Sinopec Group</td>\n",
       "      <td>713288</td>\n",
       "    </tr>\n",
       "    <tr>\n",
       "      <th>37</th>\n",
       "      <td>Agricultural Bank of China</td>\n",
       "      <td>501368</td>\n",
       "    </tr>\n",
       "  </tbody>\n",
       "</table>\n",
       "</div>"
      ],
      "text/plain": [
       "                        company  employees\n",
       "3      China National Petroleum    1512048\n",
       "118            China Post Group     941211\n",
       "1                    State Grid     926067\n",
       "2                 Sinopec Group     713288\n",
       "37   Agricultural Bank of China     501368"
      ]
     },
     "execution_count": 17,
     "metadata": {},
     "output_type": "execute_result"
    }
   ],
   "source": [
    "g500.loc[g500[\"country\"] == \"China\",[\"company\",\"employees\"]].sort_values(by = \"employees\",ascending = False).head(5)"
   ]
  },
  {
   "cell_type": "markdown",
   "metadata": {},
   "source": [
    "## Calculate the company that employs the most people in each country"
   ]
  },
  {
   "cell_type": "code",
   "execution_count": 18,
   "metadata": {},
   "outputs": [],
   "source": [
    "countries = g500[\"country\"].unique()\n",
    "top_employer = {}\n",
    "for c in countries:\n",
    "    select_country = g500[g500[\"country\"] == c]\n",
    "    select_company = select_country.sort_values(\"employees\", ascending = False).head(1)\n",
    "    top_employer[c] = select_company.iloc[0,0]"
   ]
  },
  {
   "cell_type": "code",
   "execution_count": null,
   "metadata": {},
   "outputs": [],
   "source": [
    "for name in top_employer.items():\n",
    "    print(name)"
   ]
  },
  {
   "cell_type": "markdown",
   "metadata": {},
   "source": [
    "###  Find the company with the highest ROA from each sector\n",
    "\n",
    "__ROA is a business-specific metric which indicates a company's ability to make profit using their available assets__\n",
    "\n",
    "__ROA = profit/assets__"
   ]
  },
  {
   "cell_type": "code",
   "execution_count": null,
   "metadata": {},
   "outputs": [],
   "source": [
    "g500[\"roa\"] = g500[\"profits\"]/g500[\"assets\"]"
   ]
  },
  {
   "cell_type": "code",
   "execution_count": null,
   "metadata": {},
   "outputs": [],
   "source": [
    "g500"
   ]
  },
  {
   "cell_type": "code",
   "execution_count": null,
   "metadata": {},
   "outputs": [],
   "source": [
    "sectors = g500[\"sector\"].unique()\n",
    "top_roa_by_sector = {}\n",
    "for s in sectors:\n",
    "    top_roa = g500[g500[\"sector\"] == s].sort_values(by = \"roa\" , ascending = False).head(1)\n",
    "    top_roa_by_sector[s] = top_roa.iloc[0,0]\n",
    "    "
   ]
  },
  {
   "cell_type": "code",
   "execution_count": null,
   "metadata": {},
   "outputs": [],
   "source": [
    "for name in top_roa_by_sector.items():\n",
    "    print(name)"
   ]
  },
  {
   "cell_type": "code",
   "execution_count": null,
   "metadata": {},
   "outputs": [],
   "source": []
  }
 ],
 "metadata": {
  "kernelspec": {
   "display_name": "Python 3",
   "language": "python",
   "name": "python3"
  },
  "language_info": {
   "codemirror_mode": {
    "name": "ipython",
    "version": 3
   },
   "file_extension": ".py",
   "mimetype": "text/x-python",
   "name": "python",
   "nbconvert_exporter": "python",
   "pygments_lexer": "ipython3",
   "version": "3.7.6"
  }
 },
 "nbformat": 4,
 "nbformat_minor": 4
}
